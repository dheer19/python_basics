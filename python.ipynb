{
 "cells": [
  {
   "cell_type": "markdown",
   "id": "09c902b7-b7d8-4b2e-8ba5-0502c4561692",
   "metadata": {
    "jp-MarkdownHeadingCollapsed": true,
    "tags": []
   },
   "source": [
    "# Explain the key features of Python that make it a popular choice for programming.\n",
    "\n",
    "General purpose language: Python is designed to be used for a wide range of applications, from web development and data analysis to artificial intelligence and scientific computing.\n",
    "\n",
    "Easy to Learn and Use: Python has a simple and clean syntax that makes it easy to learn, even for beginners. Its readability and straightforward structure allow developers to write and understand code more efficiently.\n",
    "\n",
    "Extensive Standard Library: Python comes with a vast standard library that includes modules and packages for various tasks, such as web development, data analysis, machine learning, and more. This reduces the need for writing code from scratch.\n",
    "\n",
    "Cross-Platform Compatibility: Python is platform-independent, meaning that code written on one operating system can run on another without modification. This makes it a versatile choice for developers working in diverse environment.\n",
    "\n",
    "Cross-Platform Compatibility: Python is platform-independent, meaning that code written on one operating system can run on another without modification. This makes it a versatile choice for developers working in diverse environments. \n"
   ]
  },
  {
   "cell_type": "markdown",
   "id": "61991c4f-2c7c-4d9c-aaee-4b9d9364b084",
   "metadata": {
    "tags": []
   },
   "source": [
    "# Describe the role of predefined keywords in Python and provide examples of how they are used in a program.\n",
    "\n",
    "Predefined keywords in Python are reserved words that have special meanings and are used to define the syntax and structure of the language. These keywords cannot be used as identifiers (such as variable names, function names, or class names) because they are integral to the language's functionality.\n",
    "\n",
    "##Role of Predefined Keywords\n",
    "\n",
    "Defining Control Flow: Keywords like if, else, elif, for, while, break, continue, and pass are used to control the flow of the program. \n",
    "\n",
    "Boolean Values: Keywords True and False represent boolean values.\n",
    "\n",
    "Defining Functions and Classes: Keywords such as def and class are used to define functions and classes, respectively.\n",
    "\n",
    "Importing Modules: Keywords import and from are used to import modules and specific attributes from modules\n",
    "\n",
    "Handling Exceptions: Keywords like try, except, finally, raise, and assert are used for exception handling.\n",
    "\n",
    "Others: Keywords like return, yield, with, as, lambda, and del serve various other purposes in the language.\n",
    "\n"
   ]
  },
  {
   "cell_type": "code",
   "execution_count": 1,
   "id": "26769e20-8fa4-4a1b-9db8-87f5f26b577c",
   "metadata": {},
   "outputs": [
    {
     "name": "stdout",
     "output_type": "stream",
     "text": [
      "You are an adult.\n"
     ]
    }
   ],
   "source": [
    "##example of control flow keywords\n",
    "age = 18\n",
    "if age >= 18:\n",
    "    print(\"You are an adult.\")\n",
    "elif age >= 13:\n",
    "    print(\"You are a teenager.\")\n",
    "else:\n",
    "    print(\"You are a child.\")"
   ]
  },
  {
   "cell_type": "code",
   "execution_count": 4,
   "id": "18e4d280-bce0-4223-87a4-c212fa076576",
   "metadata": {},
   "outputs": [
    {
     "name": "stdout",
     "output_type": "stream",
     "text": [
      "25\n"
     ]
    }
   ],
   "source": [
    "##example of defining a function\n",
    "def square(number):\n",
    "  \"\"\"Calculates the square of a number.\"\"\" \n",
    "  return number * number\n",
    "\n",
    "result = square(5)\n",
    "print(result)  \n"
   ]
  },
  {
   "cell_type": "code",
   "execution_count": 7,
   "id": "8ef4e181-60d6-4de6-8cc5-52b3617ad94d",
   "metadata": {},
   "outputs": [
    {
     "name": "stdout",
     "output_type": "stream",
     "text": [
      "Remember to bring an umbrella!\n"
     ]
    }
   ],
   "source": [
    "# Assigning boolean values to variables\n",
    "is_raining = True\n",
    "is_sunny = False\n",
    "\n",
    "# Using boolean values in conditional statements\n",
    "if is_raining:\n",
    "  print(\"Remember to bring an umbrella!\")\n",
    "else:\n",
    "  print(\"Enjoy the sunshine!\")\n",
    "\n",
    "# Comparing values and getting boolean results\n",
    "x = 10\n",
    "y = 5\n",
    "is_greater = x > y  # is_greater will be True\n"
   ]
  },
  {
   "cell_type": "code",
   "execution_count": 11,
   "id": "4627c77a-eb7e-43a5-bf1a-1ebdaaf308ad",
   "metadata": {},
   "outputs": [
    {
     "name": "stdout",
     "output_type": "stream",
     "text": [
      "Error: File 'data.txt' not found.\n",
      "Error: File 'nonexistent.txt' not found.\n"
     ]
    }
   ],
   "source": [
    "def read_file(filename):\n",
    "  try:\n",
    "    with open(filename, 'r') as file:\n",
    "      data = file.read()\n",
    "      print(data)\n",
    "  except FileNotFoundError:\n",
    "    print(f\"Error: File '{filename}' not found.\")\n",
    "  except IOError:\n",
    "    print(\"Error: An I/O error occurred while reading the file.\")\n",
    "\n",
    "# Example usage:\n",
    "read_file(\"data.txt\")  \n",
    "read_file(\"nonexistent.txt\")  \n"
   ]
  },
  {
   "cell_type": "markdown",
   "id": "ae8f2512-d252-4ec3-b219-8421450f7e02",
   "metadata": {
    "tags": []
   },
   "source": [
    "# Compare and contrast mutable and immutable objects in Python with examples.\n",
    "\n"
   ]
  },
  {
   "cell_type": "raw",
   "id": "caec1c1a-b3ce-453d-b7aa-62dd3474c51d",
   "metadata": {},
   "source": [
    "Mutable Objects: \n",
    "Mutable objects can be changed after they are created. This means you can modify their content without changing their identity. "
   ]
  },
  {
   "cell_type": "code",
   "execution_count": 14,
   "id": "30877e90-daa2-4f89-a2cc-78ea39c9d7c2",
   "metadata": {},
   "outputs": [
    {
     "name": "stdout",
     "output_type": "stream",
     "text": [
      "[1, 2, 3, 4]\n"
     ]
    }
   ],
   "source": [
    "#examples of mutable objects\n",
    "# list\n",
    "my_list = [1, 2, 3]\n",
    "my_list.append(4)  \n",
    "print(my_list) "
   ]
  },
  {
   "cell_type": "code",
   "execution_count": 15,
   "id": "2a4678db-dce4-43a8-86d0-c0f56048215f",
   "metadata": {},
   "outputs": [
    {
     "name": "stdout",
     "output_type": "stream",
     "text": [
      "{'a': 1, 'b': 2, 'c': 3}\n"
     ]
    }
   ],
   "source": [
    "# Dictionaries\n",
    "my_dict = {'a': 1, 'b': 2}\n",
    "my_dict['c'] = 3  \n",
    "print(my_dict)  "
   ]
  },
  {
   "cell_type": "code",
   "execution_count": 16,
   "id": "ee1e31d5-d9bd-4247-a5ef-236647f7eb27",
   "metadata": {},
   "outputs": [
    {
     "name": "stdout",
     "output_type": "stream",
     "text": [
      "{1, 2, 3, 4}\n"
     ]
    }
   ],
   "source": [
    "# Sets\n",
    "my_set = {1, 2, 3}\n",
    "my_set.add(4)  # Adds an element to the set\n",
    "print(my_set)  # Output: {1, 2, 3, 4}\n"
   ]
  },
  {
   "cell_type": "raw",
   "id": "889dee9e-9360-4354-a4a6-85db34d69b4f",
   "metadata": {},
   "source": [
    "Immutable Objects:\n",
    "Immutable objects cannot be changed after they are created. Any attempt to modify an immutable object results in the creation of a new object."
   ]
  },
  {
   "cell_type": "code",
   "execution_count": 17,
   "id": "0b3e214a-898a-4014-b6ef-e6ef3d5c0428",
   "metadata": {},
   "outputs": [
    {
     "name": "stdout",
     "output_type": "stream",
     "text": [
      "hello\n",
      "jello\n"
     ]
    }
   ],
   "source": [
    "#example of immutable objects\n",
    "# Strings\n",
    "my_string = \"hello\"\n",
    "new_string = my_string.replace('h', 'j')  \n",
    "print(my_string)  \n",
    "print(new_string)  \n"
   ]
  },
  {
   "cell_type": "code",
   "execution_count": 19,
   "id": "5ad70e5b-681e-4f04-afef-8397b0e488ac",
   "metadata": {},
   "outputs": [
    {
     "name": "stdout",
     "output_type": "stream",
     "text": [
      "(1, 2, 3)\n",
      "(4, 2, 3)\n"
     ]
    }
   ],
   "source": [
    "# Tuples\n",
    "my_tuple = (1, 2, 3)\n",
    "# my_tuple[0] = 4  # This would raise a TypeError\n",
    "new_tuple = (4,) + my_tuple[1:]  \n",
    "print(my_tuple)  \n",
    "print(new_tuple)  \n"
   ]
  },
  {
   "cell_type": "code",
   "execution_count": 20,
   "id": "df1e539d-8c1f-4dbf-a807-23871ed00d33",
   "metadata": {},
   "outputs": [
    {
     "name": "stdout",
     "output_type": "stream",
     "text": [
      "5\n",
      "6\n"
     ]
    }
   ],
   "source": [
    "# Integers\n",
    "x = 5\n",
    "y = x + 1  \n",
    "print(x)  \n",
    "print(y)  \n"
   ]
  },
  {
   "cell_type": "raw",
   "id": "abbf0df3-8a51-4411-947a-ad7609a6f6d2",
   "metadata": {},
   "source": [
    "Key Differences \n",
    "\n",
    "Modification: Mutable objects can be modified in place, while immutable objects cannot.\n",
    "Performance: Immutable objects are generally faster to access and safer to use in concurrent programming because their state cannot change.\n",
    "Use Cases: Use mutable objects when you need to change the size or content of the object. Use immutable objects when you need to ensure that the object remains constant throughout its lifetime."
   ]
  },
  {
   "cell_type": "markdown",
   "id": "5f5f7c05-fca7-4af0-b56a-386802c387a2",
   "metadata": {},
   "source": [
    "# Discuss the different types of operators in Python and provide examples of how they are used.\n"
   ]
  },
  {
   "cell_type": "raw",
   "id": "6b73a70b-2a86-4bd5-b57c-7d0dcc1f9968",
   "metadata": {},
   "source": [
    "Arithmetic Operators:\n",
    "These operators are used to perform basic mathematical operations."
   ]
  },
  {
   "cell_type": "code",
   "execution_count": 21,
   "id": "ff83b816-053d-4535-a8b5-9942370bf638",
   "metadata": {},
   "outputs": [],
   "source": [
    "#examples of arithmetic operators"
   ]
  },
  {
   "cell_type": "code",
   "execution_count": 23,
   "id": "fd9dd975-6b8b-402c-b97f-c639f2d7a2ea",
   "metadata": {},
   "outputs": [
    {
     "name": "stdout",
     "output_type": "stream",
     "text": [
      "8\n"
     ]
    }
   ],
   "source": [
    "#Addition (+)\n",
    "x = 5\n",
    "y = 3\n",
    "print(x + y)  \n"
   ]
  },
  {
   "cell_type": "code",
   "execution_count": 24,
   "id": "9b57ebd1-a4d6-4988-a06d-042051267223",
   "metadata": {},
   "outputs": [
    {
     "name": "stdout",
     "output_type": "stream",
     "text": [
      "2\n"
     ]
    }
   ],
   "source": [
    "#Subtraction (-)\n",
    "x = 5\n",
    "y = 3\n",
    "print(x - y)  \n"
   ]
  },
  {
   "cell_type": "code",
   "execution_count": 25,
   "id": "3c32d0cb-e358-4ee8-87a4-5c56452f3ca2",
   "metadata": {},
   "outputs": [
    {
     "name": "stdout",
     "output_type": "stream",
     "text": [
      "15\n"
     ]
    }
   ],
   "source": [
    "#Multiplication (*)\n",
    "x = 5\n",
    "y = 3\n",
    "print(x * y)  \n"
   ]
  },
  {
   "cell_type": "code",
   "execution_count": 26,
   "id": "e972add2-f302-4a92-b064-0cc678f1f7ae",
   "metadata": {},
   "outputs": [
    {
     "name": "stdout",
     "output_type": "stream",
     "text": [
      "1.6666666666666667\n"
     ]
    }
   ],
   "source": [
    "#Division (/)\n",
    "x = 5\n",
    "y = 3\n",
    "print(x / y)  \n"
   ]
  },
  {
   "cell_type": "code",
   "execution_count": 27,
   "id": "f9c2cad4-1081-4f43-aafe-7422f0b0e422",
   "metadata": {},
   "outputs": [
    {
     "name": "stdout",
     "output_type": "stream",
     "text": [
      "2\n"
     ]
    }
   ],
   "source": [
    "#Modulus (%)\n",
    "x = 5\n",
    "y = 3\n",
    "print(x % y)  \n"
   ]
  },
  {
   "cell_type": "raw",
   "id": "be217473-ff22-492f-8f21-79b3220a621b",
   "metadata": {},
   "source": [
    "Comparison Operators:\n",
    "These operators are used to compare two values."
   ]
  },
  {
   "cell_type": "code",
   "execution_count": 28,
   "id": "f741318d-1974-4044-a800-04dc4bc3ef69",
   "metadata": {},
   "outputs": [
    {
     "name": "stdout",
     "output_type": "stream",
     "text": [
      "False\n"
     ]
    }
   ],
   "source": [
    "#Equal (==)\n",
    "x = 5\n",
    "y = 3\n",
    "print(x == y)  "
   ]
  },
  {
   "cell_type": "code",
   "execution_count": 29,
   "id": "eafdf637-26f5-4e68-b651-b75e36b3ff4d",
   "metadata": {},
   "outputs": [
    {
     "name": "stdout",
     "output_type": "stream",
     "text": [
      "True\n"
     ]
    }
   ],
   "source": [
    "#Not Equal (!=)\n",
    "x = 5\n",
    "y = 3\n",
    "print(x != y)  "
   ]
  },
  {
   "cell_type": "code",
   "execution_count": 30,
   "id": "97891675-e78d-45eb-b862-78f88f486102",
   "metadata": {},
   "outputs": [
    {
     "name": "stdout",
     "output_type": "stream",
     "text": [
      "True\n"
     ]
    }
   ],
   "source": [
    "#Greater Than (>)\n",
    "x = 5\n",
    "y = 3\n",
    "print(x > y)  \n"
   ]
  },
  {
   "cell_type": "code",
   "execution_count": 31,
   "id": "468b15cd-d2b6-4f67-89a9-f3234da6611c",
   "metadata": {},
   "outputs": [
    {
     "name": "stdout",
     "output_type": "stream",
     "text": [
      "False\n"
     ]
    }
   ],
   "source": [
    "#Less Than (<)\n",
    "x = 5\n",
    "y = 3\n",
    "print(x < y)  "
   ]
  },
  {
   "cell_type": "code",
   "execution_count": 32,
   "id": "588e601d-58ef-4ec2-9227-045eb8e30094",
   "metadata": {},
   "outputs": [
    {
     "name": "stdout",
     "output_type": "stream",
     "text": [
      "False\n"
     ]
    }
   ],
   "source": [
    "#Less Than or Equal To (<=)\n",
    "x = 5\n",
    "y = 3\n",
    "print(x <= y) "
   ]
  },
  {
   "cell_type": "code",
   "execution_count": 33,
   "id": "d166f881-99cc-4fec-88af-95987eeebd25",
   "metadata": {},
   "outputs": [
    {
     "name": "stdout",
     "output_type": "stream",
     "text": [
      "True\n"
     ]
    }
   ],
   "source": [
    "#Greater Than or Equal To (>=)\n",
    "x = 5\n",
    "y = 3\n",
    "print(x >= y)  "
   ]
  },
  {
   "cell_type": "raw",
   "id": "0347d136-fdee-4bd5-9ad8-c95f290a5afa",
   "metadata": {},
   "source": [
    "Logical Operators:\n",
    "These operators are used to combine conditional statements."
   ]
  },
  {
   "cell_type": "code",
   "execution_count": 34,
   "id": "ed6a28f1-585b-4478-81d2-2df18e5a481e",
   "metadata": {},
   "outputs": [
    {
     "name": "stdout",
     "output_type": "stream",
     "text": [
      "True\n"
     ]
    }
   ],
   "source": [
    "#AND (and)\n",
    "x = 5\n",
    "print(x > 3 and x < 10)  "
   ]
  },
  {
   "cell_type": "code",
   "execution_count": 35,
   "id": "02bbfc2c-10ca-4414-b1b6-752f01a2ffbe",
   "metadata": {},
   "outputs": [
    {
     "name": "stdout",
     "output_type": "stream",
     "text": [
      "True\n"
     ]
    }
   ],
   "source": [
    "#OR (or)\n",
    "x = 5\n",
    "print(x > 3 or x < 4)  "
   ]
  },
  {
   "cell_type": "code",
   "execution_count": 36,
   "id": "673bcc21-714d-4ca3-b12b-05a0552cd772",
   "metadata": {},
   "outputs": [
    {
     "name": "stdout",
     "output_type": "stream",
     "text": [
      "False\n"
     ]
    }
   ],
   "source": [
    "#NOT (not)\n",
    "x = 5\n",
    "print(not(x > 3 and x < 10))  "
   ]
  },
  {
   "cell_type": "raw",
   "id": "948be1c5-0e92-477a-bdc7-d5deda416e2d",
   "metadata": {},
   "source": [
    "Assignment Operators:\n",
    "These operators are used to assign values to variables."
   ]
  },
  {
   "cell_type": "code",
   "execution_count": 37,
   "id": "982b5364-0f10-4ed1-9f63-a341863409d0",
   "metadata": {},
   "outputs": [],
   "source": [
    "#Simple Assignment (=)\n",
    "x = 5"
   ]
  },
  {
   "cell_type": "code",
   "execution_count": 38,
   "id": "fb9c57c1-8f0f-4ae2-a855-2686277bdb86",
   "metadata": {},
   "outputs": [
    {
     "name": "stdout",
     "output_type": "stream",
     "text": [
      "8\n"
     ]
    }
   ],
   "source": [
    "#Add and Assign (+=)\n",
    "x = 5\n",
    "x += 3  \n",
    "print(x)  "
   ]
  },
  {
   "cell_type": "code",
   "execution_count": 39,
   "id": "b1d8e017-58dc-4558-a0c0-ca3ca343aa4a",
   "metadata": {},
   "outputs": [
    {
     "name": "stdout",
     "output_type": "stream",
     "text": [
      "2\n"
     ]
    }
   ],
   "source": [
    "#Subtract and Assign (-=)\n",
    "x = 5\n",
    "x -= 3  \n",
    "print(x)  "
   ]
  },
  {
   "cell_type": "code",
   "execution_count": 40,
   "id": "9541ad31-f82d-4587-895b-4bba4dec8d8b",
   "metadata": {},
   "outputs": [
    {
     "name": "stdout",
     "output_type": "stream",
     "text": [
      "15\n"
     ]
    }
   ],
   "source": [
    "#Multiply and Assign (*=)\n",
    "x = 5\n",
    "x *= 3  \n",
    "print(x)  "
   ]
  },
  {
   "cell_type": "code",
   "execution_count": 41,
   "id": "cdb27927-b4c7-412b-969a-caf02e9ece2f",
   "metadata": {},
   "outputs": [
    {
     "name": "stdout",
     "output_type": "stream",
     "text": [
      "1.6666666666666667\n"
     ]
    }
   ],
   "source": [
    "#Divide and Assign (/=)\n",
    "x = 5\n",
    "x /= 3  \n",
    "print(x)  "
   ]
  },
  {
   "cell_type": "raw",
   "id": "3ec736b6-8273-4216-8d52-7ab8400c91ae",
   "metadata": {},
   "source": [
    "Identity Operators:\n",
    "These operators are used to compare the objects, not if they are equal, but if they are actually the same object with the same memory location."
   ]
  },
  {
   "cell_type": "code",
   "execution_count": 42,
   "id": "5ca2ef1d-7227-4c73-9fb3-96100235d0ae",
   "metadata": {},
   "outputs": [
    {
     "name": "stdout",
     "output_type": "stream",
     "text": [
      "True\n",
      "False\n"
     ]
    }
   ],
   "source": [
    "#Is (is)\n",
    "x = [\"apple\", \"banana\"]\n",
    "y = [\"apple\", \"banana\"]\n",
    "z = x\n",
    "print(x is z)  \n",
    "print(x is y)  "
   ]
  },
  {
   "cell_type": "code",
   "execution_count": 43,
   "id": "be5563fc-0bce-46c4-a5b5-c18f24cc1505",
   "metadata": {},
   "outputs": [
    {
     "name": "stdout",
     "output_type": "stream",
     "text": [
      "False\n",
      "True\n"
     ]
    }
   ],
   "source": [
    "#Is Not (is not)\n",
    "x = [\"apple\", \"banana\"]\n",
    "y = [\"apple\", \"banana\"]\n",
    "z = x\n",
    "print(x is not z)  \n",
    "print(x is not y)  "
   ]
  },
  {
   "cell_type": "raw",
   "id": "d8d66184-d2fd-4e5d-8107-ec1cff55d5a0",
   "metadata": {},
   "source": [
    "Membership Operators:\n",
    "These operators are used to test if a sequence is presented in an object."
   ]
  },
  {
   "cell_type": "code",
   "execution_count": 44,
   "id": "2e169fdb-aed9-4df3-9e7c-f7e8ab81dc41",
   "metadata": {},
   "outputs": [
    {
     "name": "stdout",
     "output_type": "stream",
     "text": [
      "True\n"
     ]
    }
   ],
   "source": [
    "#In (in)\n",
    "x = [\"apple\", \"banana\"]\n",
    "print(\"banana\" in x)  "
   ]
  },
  {
   "cell_type": "code",
   "execution_count": 45,
   "id": "292fbcd3-e233-4b48-9ee6-ca0d74683554",
   "metadata": {},
   "outputs": [
    {
     "name": "stdout",
     "output_type": "stream",
     "text": [
      "True\n"
     ]
    }
   ],
   "source": [
    "#Not In (not in)\n",
    "x = [\"apple\", \"banana\"]\n",
    "print(\"pineapple\" not in x)  "
   ]
  },
  {
   "cell_type": "markdown",
   "id": "a812c6f1-d480-439a-b1c1-c562e62ad99c",
   "metadata": {},
   "source": [
    "# Explain the concept of type casting in Python with examples."
   ]
  },
  {
   "cell_type": "raw",
   "id": "fab4c603-9496-4446-a7cc-4199968024cc",
   "metadata": {},
   "source": [
    "Type casting, also referred to as type conversion, is the process of changing one data type to another in Python."
   ]
  },
  {
   "cell_type": "raw",
   "id": "c6ac4d63-b3fc-4617-a2b2-e7ab2f4bc05f",
   "metadata": {},
   "source": [
    "Implicit Type Conversion:\n",
    "In implicit type conversion, Python automatically converts one data type to another without any user intervention. This usually happens when performing operations that involve mixed data types."
   ]
  },
  {
   "cell_type": "code",
   "execution_count": 46,
   "id": "fb1c7b6c-337e-4546-ae4a-d177a5026777",
   "metadata": {},
   "outputs": [
    {
     "name": "stdout",
     "output_type": "stream",
     "text": [
      "8.0\n"
     ]
    }
   ],
   "source": [
    "#example of implicit type conversion\n",
    "a = 5       \n",
    "b = 3.0     \n",
    "c = a + b   \n",
    "print(c)    "
   ]
  },
  {
   "cell_type": "code",
   "execution_count": 47,
   "id": "caa3d258-7133-49b2-a243-7ae0d05cf5a3",
   "metadata": {},
   "outputs": [
    {
     "name": "stdout",
     "output_type": "stream",
     "text": [
      "<class 'float'>\n"
     ]
    }
   ],
   "source": [
    "print(type(c))"
   ]
  },
  {
   "cell_type": "raw",
   "id": "5d0e2ec9-d387-4bc9-aa49-7200062c239c",
   "metadata": {},
   "source": [
    "Explicit Type Conversion:\n",
    "In explicit type conversion, also known as type casting, the programmer manually converts one data type to another using built-in functions."
   ]
  },
  {
   "cell_type": "code",
   "execution_count": 48,
   "id": "2ecf84cd-33bd-4ee3-a88c-d2f63d186bc7",
   "metadata": {},
   "outputs": [
    {
     "name": "stdout",
     "output_type": "stream",
     "text": [
      "5\n",
      "<class 'int'>\n"
     ]
    }
   ],
   "source": [
    "#examples\n",
    "#Converting Float to Integer\n",
    "a = 5.9\n",
    "b = int(a)  \n",
    "print(b)    \n",
    "print(type(b))  "
   ]
  },
  {
   "cell_type": "code",
   "execution_count": 49,
   "id": "f5e93fa2-15e4-4606-894a-26299cf87e37",
   "metadata": {},
   "outputs": [
    {
     "name": "stdout",
     "output_type": "stream",
     "text": [
      "5.0\n",
      "<class 'float'>\n"
     ]
    }
   ],
   "source": [
    "#Converting Integer to Float\n",
    "a = 5\n",
    "b = float(a)  \n",
    "print(b)      \n",
    "print(type(b))  "
   ]
  },
  {
   "cell_type": "code",
   "execution_count": 50,
   "id": "30be8969-b1e1-417f-b9df-f5e4e9159823",
   "metadata": {},
   "outputs": [
    {
     "name": "stdout",
     "output_type": "stream",
     "text": [
      "5\n",
      "<class 'str'>\n"
     ]
    }
   ],
   "source": [
    "#Converting Integer to String\n",
    "a = 5\n",
    "b = str(a)  \n",
    "print(b)    \n",
    "print(type(b))  "
   ]
  },
  {
   "cell_type": "code",
   "execution_count": 51,
   "id": "0e9a0e02-3824-4676-bb76-11b3b5e8d9a7",
   "metadata": {},
   "outputs": [
    {
     "name": "stdout",
     "output_type": "stream",
     "text": [
      "5.9\n",
      "<class 'float'>\n"
     ]
    }
   ],
   "source": [
    "#Converting String to Float\n",
    "a = \"5.9\"\n",
    "b = float(a)  \n",
    "print(b)      \n",
    "print(type(b))  "
   ]
  },
  {
   "cell_type": "code",
   "execution_count": 52,
   "id": "e7c7c092-b2bf-438e-b1b8-683440fcf3a6",
   "metadata": {},
   "outputs": [
    {
     "name": "stdout",
     "output_type": "stream",
     "text": [
      "5\n",
      "<class 'int'>\n"
     ]
    }
   ],
   "source": [
    "#Converting String to Integer\n",
    "a = \"5\"\n",
    "b = int(a)  \n",
    "print(b)    \n",
    "print(type(b))  "
   ]
  },
  {
   "cell_type": "markdown",
   "id": "486c3d5a-e3b8-479b-ad1b-6b28ebc9b906",
   "metadata": {},
   "source": [
    "# How do conditional statements work in Python? Illustrate with examples.\n"
   ]
  },
  {
   "cell_type": "raw",
   "id": "459df7cf-7d01-490f-82e6-ffbf1415f1db",
   "metadata": {},
   "source": [
    "Conditional statements in Python allow you to execute certain blocks of code based on whether a condition is true or false. They are fundamental for controlling the flow of a program."
   ]
  },
  {
   "cell_type": "code",
   "execution_count": 53,
   "id": "676cc9a6-5873-44a7-b66f-7a1a4136cd4d",
   "metadata": {},
   "outputs": [
    {
     "name": "stdout",
     "output_type": "stream",
     "text": [
      "x is greater than 5\n"
     ]
    }
   ],
   "source": [
    "#Examples Of Conditional Statement\n",
    "#if Statement\n",
    "x = 10\n",
    "if x > 5:\n",
    "    print(\"x is greater than 5\")"
   ]
  },
  {
   "cell_type": "code",
   "execution_count": 54,
   "id": "a4636b1c-7078-4d4a-b391-7917619d42db",
   "metadata": {},
   "outputs": [
    {
     "name": "stdout",
     "output_type": "stream",
     "text": [
      "x is not greater than 5\n"
     ]
    }
   ],
   "source": [
    "#if-else Statement\n",
    "x = 3\n",
    "if x > 5:\n",
    "    print(\"x is greater than 5\")\n",
    "else:\n",
    "    print(\"x is not greater than 5\")"
   ]
  },
  {
   "cell_type": "code",
   "execution_count": 55,
   "id": "192bbe87-72f0-484a-ae08-89de2f86d913",
   "metadata": {},
   "outputs": [
    {
     "name": "stdout",
     "output_type": "stream",
     "text": [
      "x is greater than 5 but less than or equal to 10\n"
     ]
    }
   ],
   "source": [
    "#if-elif-else Statement\n",
    "x = 7\n",
    "if x > 10:\n",
    "    print(\"x is greater than 10\")\n",
    "elif x > 5:\n",
    "    print(\"x is greater than 5 but less than or equal to 10\")\n",
    "else:\n",
    "    print(\"x is 5 or less\")"
   ]
  },
  {
   "cell_type": "markdown",
   "id": "81093fa6-3678-4f2b-8999-e05021ee9edf",
   "metadata": {},
   "source": [
    "# Describe the different types of loops in Python and their use cases with examples"
   ]
  },
  {
   "cell_type": "raw",
   "id": "358d124a-0762-4a24-ac10-2f3225ccb19e",
   "metadata": {},
   "source": [
    "for Loop:\n",
    "The for loop is used for iterating over a sequence (such as a list, tuple, dictionary, set, or string). It is particularly useful when you know the number of iterations in advance."
   ]
  },
  {
   "cell_type": "code",
   "execution_count": 56,
   "id": "8a38a05f-ee16-4691-b693-9820727279ee",
   "metadata": {},
   "outputs": [
    {
     "name": "stdout",
     "output_type": "stream",
     "text": [
      "apple\n",
      "banana\n",
      "cherry\n"
     ]
    }
   ],
   "source": [
    "#example\n",
    "# Iterating over a list\n",
    "fruits = [\"apple\", \"banana\", \"cherry\"]\n",
    "for fruit in fruits:\n",
    "    print(fruit)"
   ]
  },
  {
   "cell_type": "raw",
   "id": "720f077b-68c0-4381-9923-9f396003fd7c",
   "metadata": {},
   "source": [
    "while Loop:\n",
    "The while loop continues to execute a block of code as long as the specified condition is true. It is useful when the number of iterations is not known beforehand and depends on a condition."
   ]
  },
  {
   "cell_type": "code",
   "execution_count": 57,
   "id": "cbfd3519-63fd-49aa-9a41-864ac5af18cd",
   "metadata": {},
   "outputs": [
    {
     "name": "stdout",
     "output_type": "stream",
     "text": [
      "1\n",
      "2\n",
      "3\n",
      "4\n",
      "5\n"
     ]
    }
   ],
   "source": [
    "#example\n",
    "# Printing numbers from 1 to 5\n",
    "i = 1\n",
    "while i <= 5:\n",
    "    print(i)\n",
    "    i += 1"
   ]
  },
  {
   "cell_type": "raw",
   "id": "4c61913d-4f00-4159-95c8-e3133c3a280e",
   "metadata": {},
   "source": [
    "Nested Loops:\n",
    "Nested loops are loops within loops. They are useful for working with multi-dimensional data structures, such as matrices."
   ]
  },
  {
   "cell_type": "code",
   "execution_count": 58,
   "id": "770e837a-5c78-4c3f-95b7-eb4542ba3bc1",
   "metadata": {},
   "outputs": [
    {
     "name": "stdout",
     "output_type": "stream",
     "text": [
      "1 2 \n",
      "3 4 \n"
     ]
    }
   ],
   "source": [
    "#example\n",
    "# Printing a 2x2 matrix\n",
    "matrix = [[1, 2], [3, 4]]\n",
    "for row in matrix:\n",
    "    for element in row:\n",
    "        print(element, end=\" \")\n",
    "    print()"
   ]
  },
  {
   "cell_type": "raw",
   "id": "a41f3eec-292f-43b0-ac5d-8476cc7a1697",
   "metadata": {},
   "source": [
    "Loop Control Statements:"
   ]
  },
  {
   "cell_type": "code",
   "execution_count": 60,
   "id": "dd3acd5c-822b-4cbe-ad49-d46b0d51c357",
   "metadata": {},
   "outputs": [
    {
     "name": "stdout",
     "output_type": "stream",
     "text": [
      "1\n",
      "2\n",
      "3\n",
      "4\n"
     ]
    }
   ],
   "source": [
    "#example\n",
    "#break\n",
    "for i in range(1, 10):\n",
    "    if i == 5:\n",
    "        break\n",
    "    print(i)"
   ]
  },
  {
   "cell_type": "code",
   "execution_count": 61,
   "id": "8a409447-06d1-4c5c-a6cc-2168d539d25d",
   "metadata": {},
   "outputs": [
    {
     "name": "stdout",
     "output_type": "stream",
     "text": [
      "1\n",
      "2\n",
      "3\n",
      "4\n",
      "6\n",
      "7\n",
      "8\n",
      "9\n"
     ]
    }
   ],
   "source": [
    "#continue\n",
    "for i in range(1, 10):\n",
    "    if i == 5:\n",
    "        continue\n",
    "    print(i)"
   ]
  },
  {
   "cell_type": "code",
   "execution_count": 62,
   "id": "0826fae9-2a9b-45b7-8329-44173d717112",
   "metadata": {},
   "outputs": [
    {
     "name": "stdout",
     "output_type": "stream",
     "text": [
      "1\n",
      "2\n",
      "3\n",
      "4\n",
      "Loop completed\n"
     ]
    }
   ],
   "source": [
    "#else\n",
    "for i in range(1, 5):\n",
    "    print(i)\n",
    "else:\n",
    "    print(\"Loop completed\")"
   ]
  },
  {
   "cell_type": "code",
   "execution_count": null,
   "id": "f9b692c0-9aa7-4fdd-9c1d-e8895ce64095",
   "metadata": {},
   "outputs": [],
   "source": []
  }
 ],
 "metadata": {
  "kernelspec": {
   "display_name": "Python 3 (ipykernel)",
   "language": "python",
   "name": "python3"
  },
  "language_info": {
   "codemirror_mode": {
    "name": "ipython",
    "version": 3
   },
   "file_extension": ".py",
   "mimetype": "text/x-python",
   "name": "python",
   "nbconvert_exporter": "python",
   "pygments_lexer": "ipython3",
   "version": "3.10.8"
  }
 },
 "nbformat": 4,
 "nbformat_minor": 5
}
